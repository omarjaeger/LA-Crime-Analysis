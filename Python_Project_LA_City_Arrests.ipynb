{
 "cells": [
  {
   "cell_type": "code",
   "execution_count": 1,
   "metadata": {
    "id": "cDGja5KbzS5z"
   },
   "outputs": [],
   "source": [
    "from IPython.display import display, HTML\n",
    "import pandas as pd\n",
    "import sqlite3\n",
    "from sqlite3 import Error\n",
    "\n",
    "def create_connection(db_file, delete_db=False):\n",
    "    import os\n",
    "    if delete_db and os.path.exists(db_file):\n",
    "        os.remove(db_file)\n",
    "\n",
    "    conn = None\n",
    "    try:\n",
    "        conn = sqlite3.connect(db_file)\n",
    "        conn.execute(\"PRAGMA foreign_keys = 1\")\n",
    "    except Error as e:\n",
    "        print(e)\n",
    "\n",
    "    return conn\n",
    "\n",
    "\n",
    "def create_table(conn, create_table_sql):\n",
    "    try:\n",
    "        c = conn.cursor()\n",
    "        c.execute(create_table_sql)\n",
    "    except Error as e:\n",
    "        print(e)\n",
    "        \n",
    "def execute_sql_statement(sql_statement, conn):\n",
    "    cur = conn.cursor()\n",
    "    cur.execute(sql_statement)\n",
    "\n",
    "    rows = cur.fetchall()\n",
    "\n",
    "    return rows\n",
    "\n",
    "conn = create_connection('la_city_crime.db', delete_db=True)"
   ]
  },
  {
   "cell_type": "code",
   "execution_count": 2,
   "metadata": {},
   "outputs": [
    {
     "name": "stderr",
     "output_type": "stream",
     "text": [
      "/usr/local/lib/python3.9/site-packages/IPython/core/interactiveshell.py:3457: DtypeWarning: Columns (21,23) have mixed types.Specify dtype option on import or set low_memory=False.\n",
      "  exec(code_obj, self.user_global_ns, self.user_ns)\n"
     ]
    },
    {
     "name": "stdout",
     "output_type": "stream",
     "text": [
      "414390\n",
      "Index(['Report ID', 'Report Type', 'Arrest Date', 'Time', 'Area ID',\n",
      "       'Area Name', 'Reporting District', 'Age', 'Sex Code', 'Descent Code',\n",
      "       'Charge Group Code', 'Charge Group Description', 'Arrest Type Code',\n",
      "       'Charge', 'Charge Description', 'Disposition Description', 'Address',\n",
      "       'Cross Street', 'LAT', 'LON', 'Location', 'Booking Date',\n",
      "       'Booking Time', 'Booking Location', 'Booking Location Code'],\n",
      "      dtype='object')\n"
     ]
    }
   ],
   "source": [
    "#Read dataset\n",
    "\n",
    "df = pd.read_csv(\"Arrest_data.csv\")\n",
    "\n",
    "df = df.dropna()\n",
    "print(len(df))\n",
    "print(df.columns)"
   ]
  },
  {
   "cell_type": "code",
   "execution_count": 3,
   "metadata": {
    "colab": {
     "base_uri": "https://localhost:8080/"
    },
    "id": "Dh1LYxfszri9",
    "outputId": "b8531945-7dd8-4ea5-b003-e6e5dcfae592"
   },
   "outputs": [
    {
     "name": "stdout",
     "output_type": "stream",
     "text": [
      "      Charge Group Code Charge Group Description       Charge  \\\n",
      "331                 5.0                 Burglary        459PC   \n",
      "673                 6.0                  Larceny        666PC   \n",
      "784                 5.0                 Burglary        459PC   \n",
      "2256               10.0       Fraud/Embezzlement  10980(C)2WI   \n",
      "3108                7.0            Vehicle Theft   10851(A)VC   \n",
      "\n",
      "                             Charge Description  \n",
      "331                                    BURGLARY  \n",
      "673    PETTY THEFT W/SPECIFIED PRIOR CONVICTION  \n",
      "784                                    BURGLARY  \n",
      "2256  OBTAIN/ETC AID BY FALSE STMENT/ETC > $400  \n",
      "3108           TAKE VEHICLE W/O OWNER'S CONSENT   414390 Int64Index([    331,     673,     784,    2256,    3108,    4675,    4693,\n",
      "               4922,    5175,   44678,\n",
      "            ...\n",
      "            1322791, 1322792, 1322793, 1322795, 1322798, 1322805, 1322808,\n",
      "            1322814, 1322817, 1322819],\n",
      "           dtype='int64', length=414390)\n"
     ]
    },
    {
     "data": {
      "text/plain": [
       "<sqlite3.Cursor at 0x1143ccea0>"
      ]
     },
     "execution_count": 3,
     "metadata": {},
     "output_type": "execute_result"
    }
   ],
   "source": [
    "sql_charge_detals = \"CREATE TABLE ChargeDetails(ChargeGroupCode INTEGER NOT NULL PRIMARY KEY, ChargeGroupDesc TEXT NOT NULL, Charge TEXT NOT NULL,ChargeDesc TEXT NOT NULL);\"\n",
    "\n",
    "create_table(conn, sql_charge_detals)\n",
    "\n",
    "rows = []\n",
    "charge_group_code = []\n",
    "charge_group_desc = []\n",
    "charge_code = []\n",
    "charge_desc = []\n",
    "\n",
    "df_charge_data = df[['Charge Group Code', 'Charge Group Description', 'Charge', 'Charge Description']]\n",
    "print(df_charge_data.head(), len(df_charge_data), df_charge_data.index)\n",
    "\n",
    "#count = 0\n",
    "for i in df_charge_data.index[0:10000]:\n",
    "    count += 1\n",
    "    #print(count)\n",
    "    if(int(df_charge_data['Charge Group Code'][i]) not in charge_group_code):\n",
    "        charge_group_code += [int(df_charge_data['Charge Group Code'][i])]\n",
    "        charge_group_desc += [df_charge_data['Charge Group Description'][i]]\n",
    "        charge_code += [df_charge_data['Charge'][i] + \":\"]\n",
    "        charge_desc += [df_charge_data['Charge Description'][i] + \":\"]\n",
    "    else:\n",
    "        index = charge_group_code.index(int(df_charge_data['Charge Group Code'][i]))\n",
    "        if(df_charge_data['Charge'][i] not in charge_code[index]):\n",
    "            charge_code[index] += df_charge_data['Charge'][i] + \":\"\n",
    "            charge_desc[index] += df_charge_data['Charge Description'][i] + \":\"\n",
    "\n",
    "for i in range(0, len(charge_group_code)):\n",
    "    rows += [(int(charge_group_code[i]), charge_group_desc[i], charge_code[i], charge_desc[i],)]\n",
    "\n",
    "#print(charge_group_code)\n",
    "    \n",
    "#print(len(charge_group_code), len(list(set(charge_group_code))))\n",
    "#print(rows)\n",
    "sql = \"\"\"INSERT INTO ChargeDetails VALUES (?,?,?,?);\"\"\"\n",
    "cur = conn.cursor()\n",
    "cur.executemany(sql, rows)\n",
    "\n"
   ]
  },
  {
   "cell_type": "code",
   "execution_count": 4,
   "metadata": {
    "colab": {
     "base_uri": "https://localhost:8080/"
    },
    "id": "Fgy6-8b13BT_",
    "outputId": "10e639c0-bdb6-48f7-8f47-b006d9eb232a"
   },
   "outputs": [
    {
     "data": {
      "text/plain": [
       "[(1,\n",
       "  'Homicide',\n",
       "  '187(A)PC:192(C)(1)PC:191.5(A)PC:',\n",
       "  'MURDER:FIRST DEGREE:SHOOT FROM VEHICLE:VEHICULAR MANSLAUGHTER W/GROSS NEGLIGENCE:VEH MANSLAUGHTER DUI W/GROSS NEGLIGENCE:'),\n",
       " (2,\n",
       "  'Rape',\n",
       "  '261(A)(1)PC:286(D)PC:288A(A)PC:261(A)(4)PC:261(A)(2)PC:A261(A)1PC:288A(B)1PC:',\n",
       "  'RAPE - VICTIM INCAPABLE OF CONSENT:SODOMY ACTING IN CONCERT W/FORCE:ORAL COPULATION:RAPE -VICTIM UNCONSCIOUS OF NATURE OF ACT:RAPE BY FORCE/FEAR:ATTEMPT RAPE VICTIM INCAPABLE OF CONSENT:ORAL COPULATION W/PERSON UNDER 18 YRS:'),\n",
       " (3,\n",
       "  'Robbery',\n",
       "  '211PC:215PC:A211PC:215(A)PC:A215(A)PC:',\n",
       "  'ROBBERY:CARJACKING:ATTEMPT - ROBBERY:CARJACKING:ATTEMPTED CARJACKING:'),\n",
       " (4,\n",
       "  'Aggravated Assault',\n",
       "  '273.5(A)PC:245(A)(1)PC:245(A)(2)PC:243(D)PC:451(B)PC:245(C)PC:A273.5(A)PC:243(C)PC:A187(A)PC:273A(A)PC:23110(B)VC:417(A)(2)PC:417.4PC:368(A)PC:245(B)PC:368(B)(1)PC:273D(A)PC:148(A)(1)PC:273.5(E)PC:206PC:245(A)PC:',\n",
       "  'CORPORAL INJURY ON SPOUSE/COHABITANT/ETC:ADW, NOT FIREARM, W/GBI:ADW W/FIREARM:BATTERY W/GBI:ARSON INHABITED STRUCTURE/PROPERTY:ADW PO/FIREMAN W/O FIREARM/GBI:ATT INFLICT CORP INJ SPOUSE/COHABITANT:BATTERY ON PO/EMERGENCY PERSONNEL W/INJ:ATTEMPT - MURDER:CRUEL TO CHILD LIKELY TO PROD GBI/DEATH:THROW SUBSTANCE AT VEHICLE W/GBI INTENT:EXHIBIT/DRAW FIREARM:DRAW/EXHIBIT IMITATION FIREARM:BODY HARM/DEATH ON ELDER/DEPENDENT ADULT45:ADW W/SEMIAUTOMATIC RIFLE:CAUSE HARM/DEATH OF ELDER/DEPEND ADULT:CORPORAL INJURY ON CHILD:RESISTING OFFICER:INFLICT CORPORAL INJ:SPOUSE ETC W/PRIOR:TORTURE:ADW (RENUM-245(A)(1)PC / 245(A)(2)PC):'),\n",
       " (5,\n",
       "  'Burglary',\n",
       "  '459PC:A459PC:466.3(A)PC:',\n",
       "  'BURGLARY:ATTEMPT - BURGLARY:POSSESS DEVICE TO TAMPER W/VENDING MACH:'),\n",
       " (6,\n",
       "  'Larceny',\n",
       "  '666PC:487(A)PC:487(C)PC:484(A)PC:459PCAUTO:A487(A)PC:368(D)PC:484PC:22435.2FBP:490.1(A)PC:22435.2BBP:A484(A)PC:A459PCAUTO:487BPC:490.5(A)PC:368(C)PC:',\n",
       "  'PETTY THEFT W/SPECIFIED PRIOR CONVICTION:GRAND THEFT MONEY/PROPERTY > $400:GRAND THEFT PERSON:GRAND THEFT (OVER $400):BURGLARY FROM VEHICLE:GRAND THEFT MONEY/PROPERTY > $400:THEFT OF ELDER/DEPENDENT ADULT OVER $400:THEFT FROM VEHICLE:POSSESS SHOPPING CART:PETTY THEFT LESS THAN $50:UNAUTH POSS OF SHOPPING/LAUNDRY CARTS:ATTEMPT - PETTY THEFT:ATTEMPT BURGLARY FROM VEHICLE:CONVERT REAL PROPERTY > $100:PETTY THEFT: RETAIL MERCHANDISE/LIBR BOOK:THEFT FROM ELDER/DEPENDENT ADULT $400:'),\n",
       " (7,\n",
       "  'Vehicle Theft',\n",
       "  '10851(A)VC:487(D)PC:10851VC:487(D)(1)PC:487(D)PCGTA:10851(E)VC:487HPC:A487(D)PC:487H(A)PC:A10851(A)VC:',\n",
       "  \"TAKE VEHICLE W/O OWNER'S CONSENT:GRAND THEFT FIREARM/AUTO/ETC:TAKE VEHICLE W/O OWNER'S CONSENT:GRAND THEFT AUTO/HORSE/ETC:GRAND THEFT AUTO:TAKE VEH:NO CNSNT:SPEC PR:GRAND THEFT VEHICLE/VESSEL/ETC:ATTEMPT GRAND THEFT FIREARM/ETC:GRAND THEFT VEHICLE/VESSEL/ETC:ATTEMPT - TAKE VEHICLE W/O CONSENT:\"),\n",
       " (8,\n",
       "  'Other Assaults',\n",
       "  '243(A)PC:69PC:243(E)(1)PC:148.9PC:242PC:148(A)(1)PC:148.9(A)PC:243(B)PC:243(C)(2)PC:243(E)PC:243.3PC:148(A)PC:241.3(A)PC:243.1PC:836.6(B)PC:243(C)(1)PC:241(A)PC:',\n",
       "  'BATTERY ON PERSON:OBSTRUCT/RESIST EXECUTIVE OFFICER:BATT EX-SPOUSE/FIANCEE/PERSN W/DATING REL:FALSE ID TO PEACE OFFICER:BATTERY:OBSTRUCT/ETC PUB OFCR/ETC:FALSE IDENTIFICATION TO PEACE OFFICER:BATTERY ON PO/EMERGENCY PERSONNEL W/O INJ:BATTERY ON PEACE OFFICER:BATT EX-SPOUSE/FIANCEE/PERSN W/DATING REL:BATTERY TRANSPORTATION PERSONNEL/PASSENGR:RESISTING OFFICER:ASLT PRSN:PUB TRANSP/ETC:BATTERY ON CUSTODIAL OFFICER:ESCAPE/ATTEMPT ESCAPE FR PO CAUSE INJURY:BATTERY ON CUSTODIAL OFFICER/FIREFIGHTER/:ASSAULT ON PERSON:'),\n",
       " (9,\n",
       "  'Forgery/Counterfeit',\n",
       "  '484E(D)PC:470PC:470(A)PC:470(D)PC:472PC:470BPC:529PC:476PC:475(A)PC:484E(A)PC:350(A)(2)PC:350(A)(1)PC:484E(C)PC:350(A)PC:113PC:115(A)PC:484F(A)PC:12090PC:475PC:4390.1BP:',\n",
       "  \"ACQUIRE ACCESS CARD IN 4+ NAMES > 12 MOS:FORGERY:FORGERY:FALSE CHECKS/REC/CERT/ETC:FORGERY/COUNTERFEIT PUBLIC/CORPORATE SEAL:POSS DRIVER'S LIC/ID CARD COMMIT FORGERY:FALSE PERSONATE:SPEC CIRC:MAKE/POSSESS/UTTER FICTITIOUS INSTRUMENTS:POSSESS ITEMS W/INTENT TO FORGE/CNTRFEIT:ACQUIRE ACCESS CARD W/INTENT TO USE/SELL:POSS 1,000+ ARTICLES W/COUNTERFEIT MARK:POSS < 1,000 ARTICLES W/COUNTERFEIT MARK:ACQUIRE ACCESS CARD W/INTENT TO DEFRAUD:MFG/SELL COUNTERFEIT MARK:MANUFACTURE/ETC FALSE CITIZENSHIP DOCU:OFFER FALSE/FORGED INSTRUMENT TO BE FILED:FORGE/MAKE/USE OF ACCESS CARD TO DEFRAUD:CHG/ALTER/REMOV/OBLITERATE ID MARKS F/ARM:POSS/RECEIPT OF FORGED NOTES/BILLS/ETC:REPRODUCE/POSSESS PRESCRIPTION BLANKS:\"),\n",
       " (10,\n",
       "  'Fraud/Embezzlement',\n",
       "  '10980(C)2WI:4463(A)1VC:504PC:4461(C)VC:4463(A)2VC:485PC:118(A)PC:118PC:529.3PC:530.5(A)PC:4463(A)VC:475APC:529PC:138(A)PC:498(B)(1)PC:503PC:',\n",
       "  \"OBTAIN/ETC AID BY FALSE STMENT/ETC > $400:ALTER REGISTRATION/LICENSE PLATES/ETC:EMBEZZLE OF PROP BY PUBLIC/P.O. >$400:MISUSE DISABLED PERSON PLACARD:FALSE EVIDENCE OF REGISTRATION:APPROPRIATE LOST PROPERTY:PERJURY UNDER OATH:PERJURY (DEFINITION):FALSE PERSONATION TO MAKE OTHER LIABLE:GET CREDIT/ETC OTHER'S ID:ALTER REGISTRATION/LICENSE PLATES/ETC:POSS COMPL CHECK/ETC W/INTENT TO DEFRAUD:FALSE PERSONATION:SP CIRC:OFFERING BRIBE TO WITNESS:THEFT OF UTILITY SERVICES:EMBEZZLEMENT >$400:\"),\n",
       " (11,\n",
       "  'Receive Stolen Property',\n",
       "  '496(A)PC:496PC:496D(A)PC:',\n",
       "  'RECEIVING KNOWN STOLEN PROPERTY >$950:RECEIVE/ETC KNOWN STOLEN PROPERTY:POSS STOLEN VEH/VES/ETC:'),\n",
       " (12,\n",
       "  'Weapon (carry/poss)',\n",
       "  '12031A2CPC:25850(A)PC:12021(A)1PC:12031(A)1PC:12101(A)1PC:12020(A)1PC:12020PC:653KPC:12020(A)4PC:12316(B)1PC:12025(B)5PC:12031(A)PC:12280(B)PC:12031A2FPC:12025(B)2PC:12303PC:12025(A)2PC:12031A2BPC:12303.2PC:12025(A)1PC:12025(B)1PC:626.9(B)PC:12220(A)PC:626.10(A)PC:12553PC:12021PC:12025(B)4PC:417(A)(1)PC:12403.7APC:12020(A)PC:12651(B)PC:12280(C)PC:246.3PC:12025(B)3PC:12553(A)1PC:12076(B)1PC:12651(A)PC:12025(A)3PC:626.10(B)PC:4502(A)PC:',\n",
       "  'GANG MEMB:CLF/ARM:PUB/ETC:CARRY LOADED F/ARM PRSON/HEH PUBLIC PLACE:POSS FIREARM BY CONVICTD FELON/ADDICT/ETC:CARY LOAD F/ARM:PUB:S/CIR:MINOR IN POSS CONCEALABLE FIREARM W/PRIOR:MFG/SELL/POSS DANGEROUS WEAPON/ETC:POSS/SELL/MFG DANGEROUS WEAPON:POSSESS/SELL SWITCHBLADE KNIFE:CARRY CONCEALED DIRK OR DAGGER:PROHIBITED PERSON OWN/ETC AMMUNITION/ETC:CARRY FIREARM W/NARCOTICS:CARRY LOADED FIREARM IN PUBLIC PLACE:POSSESSION OF ASSAULT WEAPON:CARRYING LOADED FIREARM:CARRY CONCEALD STOLEN WPN:POSSESSION DESTRUCTIVE DEVICE:CARRY CONCEAL WEAPN IN VEH W/PR CONVICTN:CARRY STOLEN LOADED F/ARM:POSS DESTRUCT DEVICE NEAR CERTAIN PLACES:CARRYING CONCEALED WEAPON WITHIN VEHICLE:CCW IN VEH W/PR FEL CONV:BRING/POSSESS FIREARM ON SCHOOL GROUNDS:POSSESS/TRANSPORT MACHINEGUN:POSS KNIFE/ETC AT SCHL W/GRADES 1 THRU 12:CHANGE/ALTER/ETC FIREARM MARKINGS:POSSESSION OF FIREARM BY FELON/ADDICT/ETC:CCW:PROHIB/UNLAWFUL POSS:EXHIBIT/DRAW DEADLY WEAPON NOT A FIREARM:POSSESS TEAR GAS WEAPON W/O PERMIT:POSSESS/SELL/MFG DANGEROUS WEAPON:PURCHASE/POSS/USE STUN GUN BY DRUG ADDICT:POSSESSION OF 50 BMG RIFLE:DISCHARGE FIREARM IN PUBLIC:CCW:CRIM ST GANG:ACTIVE:ALTER/ETC FIREARM MARKINGS:GIVE FALSE DATA:F/ARM REG:PURCH/POSS/USE STUN GUN BY CONVICTED FEL:CONCEALED FIREARM IN CAR:POSSESS KNIFE/ETC AT COLLEGE/UNIVERSITY:POSSESSION DEADLY WEAPON BY PRISONER:'),\n",
       " (13,\n",
       "  'Prostitution/Allied',\n",
       "  '266IPCPAN:653.22(A)PC:647(B)PC:653.22PC:266H(A)PC:266IAPCPAN:653.23A1PC:647FPC:',\n",
       "  'PANDERING:LOITER:INTENT:PROSTITUTION:PROSTITUTION:LOITERING FOR PURPOSES OF PROSTITUTION:PIMPING:PANDERING:SUPERVISOR OF PROSTITUTE:FELONY PROSTITUTION:'),\n",
       " (14,\n",
       "  'Sex (except rape/prst)',\n",
       "  '243.4PC:647(A)PC:243.4(A)PC:314.1PC:290.012APC:290PC:288(A)PC:647.6(A)PC:243.4(D)PC:261.5(D)PC:290A1APC:243.4(E)1PC:290(A)1DPC:290(G)(2)PC:',\n",
       "  'SEXUAL BATTERY:SOLICIT/ENGAGE LEWD ACT IN PUBLIC VIEW:SEXUAL BATTERY BY RESTRAINT:INDECENT EXPOSURE,ILL ENTRY OCCUPY DWELLG:SEX REGISTRATION VIOLATION:FAIL TO REGISTER AS SEX OFFENDER:LEWD/LASCIVIOUS ACTS W/CHILD < 14 YRS:ANNOY/ETC CHILD UNDER 18:SEXUAL BATT-TOUCH INTIMATE PART OF OTHER:SEX WITH MINOR UNDER 16 BY PERSON 21+:FT/REG/ETC:FEL SEX OFF/PR:SEX BATTERY TOUCH INTIMATE PART OF ANOTHER:FAILURE TO REGISTER AS SEX OFFENDER:FAIL TO REGISTER AS FELONY SEX OFFENDER:'),\n",
       " (15,\n",
       "  'Against Family/Child',\n",
       "  '273.6(A)PC:270PC:273A(B)PC:',\n",
       "  'DISOBEY DOMESTIC RELATIONS COURT ORDER:FAILURE TO PROVIDE FOR MINOR CHILD:ATTEMPT WILLFUL CRUELTY TO CHILD:'),\n",
       " (16,\n",
       "  'Narcotic Drug Laws',\n",
       "  '11350(A)HS:11364HS:11377(A)HS:11550(A)HS:11550HS:23222(B)VC:11352(A)HS:11377HS:11359HS:11352HS:4573PC:11378HS:11351.5HS:11379HS:11378.5HS:11357(A)HS:11357(B)HS:11532(A)HS:11360(A)HS:A11377(A)HS:4230BP:11351HS:11375(A)HS:11383(B)HS:A11350(A)HS:11357(C)HS:11355HS:11357HS:4149BP:11358HS:11360(B)HS:11364(A)HS:A11352(A)HS:11350(A)2HS:4573.5PC:11357(D)HS:11360HS:11379(A)HS:11370.1AHS:11370.1HS:4573.6PC:A11360(A)HS:11382HS:11357(E)HS:11375(B)HS:11353(A)HS:',\n",
       "  'POSSESSION NARCOTIC CONTROLLED SUBSTANCE:POSSESSION CNTL SUBSTANCE PARAPHERNALIA:POSSESSION CONTROLLED SUBSTANCE:UNDER INFLUENCE CNTL SUB:USE/UNDER INFLUENCE OF CONTROLLED SUBS:POSSESS OF MARIJUANA WHILE DRIVING VEH:TRANSPORT/SELL/ETC CONTROLLED SUBSTANCE:POSS CONTROLLED SUBS W/SP PRIOR:POSSESSION MARIJUANA FOR SALE:TRANS SELL NARC CONTROLLED SUBSTANCE:BRING/SEND NARC/CONT SUBS/ALCOHOL TO JAIL:POSSESSION CONTROLLED SUBSTANCE FOR SALE:POSS/PURCHASE COCAINE BASE FOR SALE:TRANSPORT/SELL CONTROLLED SUBSTANCE:POSS PHENCYCLIDINE/DESIGNATD SUB FOR SALE:POSSESS CONCENTRATED CANNABIS W/SP PRIOR:POSSESS 28.5 GRAMS OR MORE OF MARIJUANA:LOITER IN PUBLIC PLACE FOR ILL DRUG ACT:TRANSPORT/SELL/FURNISH/ETC MARIJUANA:ATTEMPT FELONY POSS CONTROLLED SUBSTANCE:POSSESSION DANGEROUS DRUGS W/O PRESC:POSSESS/PURCHASE CONTROLLED SUBS FOR SALE:POSS FOR SALE/SELL CONT SUBSTANCE:POSS SUBS W/INTENT TO MFG PCP/PCP ANALOGS:ATTEMPT - POSS CONTROLLED SUBSTANCE:POSSESS LESS THAN 28.5 GRAMS OF MARIJUANA:SELL SUBSTANCE IN LIEU OF CNTL SUBS:POSSESSION CANNABIS:UNAUTHORIZED POSSESSION OF SYRINGE/NEEDLE:UNLAWFULLY PLANT/CULTIVATE/ETC MARIJUANA:GIVE/TRANSPORT/ETC < 28.5 GRAMS MARIJUANA:POSS DEVICE/INSTRUMT/PARAPHERNALIA:ATTEMPT TRANSPORT/SELL NARCOTIC/CNTL SUBS:POSS SCH III,IV,V NARC CONT SUB W/O PRES:BRING DRUG/DRUG PARAPHERNALIA:JAIL/PRISON:MINOR POSS < 28.5 GRAMS MARIJUANA/SCHOOL:TRANSPORT/ETC MARIJUANA:TRANSPORT/SELL CONTROLLED SUBSTANCE:POSS C/SUB WHILE ARMED W/LOADED FIREARM:FIREARM W/NARCOTICS:POSS NARC/DRUG/ALCOHOL/DRUG PARAPH:JAIL:ATTEMPT - SELL/FURNISH/ETC MARIJUANA:SELLING SUBSTANCE IN LIEU OF A CNTL SUBS:MINOR POSS 28.5+ GRAMS MARIJUANA/SCHOOL:POSSESS SPECIFIC CNTL SUBS FOR SALE:ADULT SOLICIT/ETC MI:VIOL CNTL SUB/NARCO:'),\n",
       " (17,\n",
       "  'Liquor Laws',\n",
       "  '25620BP:25658(A)BP:25662(A)BP:23224(A)VC:25602(A)BP:25620(A)BP:',\n",
       "  'OPEN ALCOHOLIC BEV IN PUBLIC PARK/PLACE:SALE/ETC OF ALCOHOLIC BEVERAGE TO MINOR:MINOR IN POSSESSION OF ALCOHOLIC BEVERAGE:TRANSPORT ALCOHOLIC BEVERAGE BY MINOR:ALCOHOLIC BEV SALES TO INTOXICATED PERSNS:DRINKING ALCOHOL:'),\n",
       " (18,\n",
       "  'Drunkeness',\n",
       "  '647(F)PC:647(F)PCALC:',\n",
       "  'DISORD CONDUCT:UI/DRUG, ALCOHOL:DRUNK, ALCOHOL:'),\n",
       " (19,\n",
       "  'Disturbing the Peace',\n",
       "  '415PC:415(3)PC:415(2)PC:',\n",
       "  'DISTURBING THE PEACE:OFFENSIVE LANGUAGE IN PUBLIC:LOUD/UNREASONABLE NOISE:'),\n",
       " (20,\n",
       "  'Disorderly Conduct',\n",
       "  '647(E)PC:602.1(A)PC:381(A)PC:647(H)PC:647(J)PCLWC:415(1)PC:647(C)PC:381BPC:370PC:',\n",
       "  'LOITER/REFUSE TO IDENTIFY SELF:INTENTIONAL INTERFERENCE W/PUBLIC TRANSP:UNDER INFLUENCE OF TOLUENE:DISORD CONDUCT:LOITER/ETC PRIV PROPERTY:DISORDERLY CONDUCT:LODGE WITHOUT CONSENT:FIGHT/CHALLENGE IN PUBLIC PLACE:BEGGING:POSSESSION OF NITROUS OXIDE:PUBLIC NUISANCE:'),\n",
       " (21, 'Gambling', '330PC:', 'GAMING:'),\n",
       " (22,\n",
       "  'Driving Under Influence',\n",
       "  '23152(A)VC:23152(B)VC:23153(A)VC:21200.5VC:23153(B)VC:23550VC:23550(A)VC:',\n",
       "  'DRUNK DRIVING ALCOHOL/DRUGS:DRUNK DRIVING .10 OR ABOVE:DUI ALCOHOL CAUSING INJURY:DUI ALCOHOL/DRUGS ON BICYCLE:DUI .08 ALCOHOL CAUSING INJURY:FELONY FOR FOURTH DUI:DUI W/PRIOR SPEC CONVICTIONS:'),\n",
       " (23,\n",
       "  'Moving Traffic Violations',\n",
       "  '12500(A)VC:14601.2AVC:40508(A)VC:2800.2(A)VC:23103VC:14601(A)VC:23103(A)VC:23109(A)VC:14601.1AVC:20002(A)VC:14610(A)1VC:20001(A)VC:23109(C)VC:14601.5AVC:23111VC:4462.5VC:38320(A)VC:40302(B)VC:14601VC:40302(A)VC:22513(B)VC:16025(A)VC:23104(A)VC:2800.2VC:14604(A)VC:23103(B)VC:20002(A)1VC:20002(A)2VC:21663VC:',\n",
       "  \"UNLICENSED DRIVER:DRIVE W/LIC SUSPEND/REVOKE 4 DRUGS/ALCOHL:FTA/TRAFFIC WARRANT:EVADE PO:DISREGARD SAFETY:RECKLESS DRIVING:DRIVE W/LIC SUSPEND/REV 4 RECKLESS DRIVG:RECKLESS DRIVING:ILLEGAL SPEED CONTEST:DRIVE W/LIC SUSPEND/REVOKE 4 OTHER REASON:HIT AND RUN:PROP DAMAGE:UNLAWFUL DISPLAY OF DRIVER'S LICENSE:HIT AND RUN CAUSING INJURY/DEATH:AID/ABET/ENGAGE IN SPEED CONTEST:DRIVE WITH KNOWLEDGE THAT LIC SUSP/REV:THROW LIGHTED SUBSTANCE FROM VEH ON HWY:AVOID REGISTRATION COMPLIANCE:THROWING TRASH ON PRIVATE AREA:FAIL TO GIVE WRITTEN PROMISE TO APPEAR:DRIVING WITH SUSPENDED LICENSE:FAIL TO PRESENT ID:TOW TRUCK OWNR/OPR SOLICIT TOW VEH N/AUTH:FAIL TO EXCHANGE INFO FOLLOWING ACCIDENT:RECKLESS DRIVING W/INJURY:EVADING PO/DRIVE IN RECKLESS MANNER:OWN LET UNLICENSD OPR VEH:RECKLESS DRIVING IN PARKING LOT:FAIL TO PRESENT DL/FINANCIAL RESPON INFO:HIT & RUN PROPERTY DAMAG:NOTIFY OWNER REQ:DRIVING ON SIDEWALK:\"),\n",
       " (24,\n",
       "  'Miscellaneous Other Violations',\n",
       "  '1551.1PC:LAMC:3056PC:4024.2(B)PC:853.7PC:653W(A)PC:422PC:602(O)PC:594(A)PC:594(B)(1)PC:207(A)PC:31VC:1203.2PC:166(A)(4)PC:71PC:210.5PC:16028(A)VC:1331PC:452(C)PC:594(B)2APC:466PC:32PC:1767.3(A)WI:602(K)PC:4140BP:518PC:207(B)PC:1203.2(A)PC:A207(A)PC:166(C)(1)PC:182(A)(1)PC:466.6(A)PC:594(A)(1)PC:166(A)(1)PC:451(D)PC:594(B)(2)PC:594.2(A)PC:136.1(A)1PC:419PC:236PC:452(B)PC:602(Q)PC:148.1(C)PC:602.5(B)PC:602.5(A)PC:555PC:594.3(A)PC:2012FG:209(B)(1)PC:602(K)(1)PC:369I(B)PC:10852VC:594(A)(2)PC:653M(A)PC:646.9(A)PC:25189.5BHS:148.1(B)PC:340WI:653WPC:272PC:30474RT:209(A)PC:148.1(A)PC:594(B)(4)PC:346PC:653M(B)PC:272(A)(1)PC:186.22(A)PC:COMC:166.4PC:594(2)(A)PC:136.1(B)1PC:451(C)PC:23112(A)VC:636.5PC:4148BP:602.7PC:602(J)PC:7583.3(A)BP:',\n",
       "  'FUGITIVE FROM JUSTICE WARRANTLESS ARR:LOS ANGELES MUNICIPAL CODE:VIOLATION OF PAROLE:FELONY:VIOL PROMISE TO APPEAR/WORK RELEASE PROG:FTA AFTER WRITTEN PROMISE:FAIL DISCLOSE ORIGIN OF RECORDG/1000+ART:CRIMINAL THREATS:TRESPASS ON CLOSED LANDS:VANDALISM:VANDALISM W/LOSS VALUED EQ OR > $400:KIDNAPPING:GIVE FALSE INFO TO PEACE OFFICER:PROBATION VIOLATION:CONTEMPT OF COURT - DISOBEY COURT ORDER:THREATEN SCHOOL OFFICIALS/PO/EMPLOYEES:TAKING OF HOSTAGES:FALSE PROOF:FINANCE RESP:DISOBEY SUBPOENA/REFUSE TO TESTIFY:RECKLESS CAUSE FIRE:STRUCTURE/FOREST LAND:DEFACE/DAMAGE PROPERTY <$400:POSSESSION BURGLARY TOOLS:ACCESSORY AFTR FACT-KNOW FEL CRIME/PERSON:PAROLE VIOLATION:TRESPASSING LANDS UNDER CULTIVATION:SELL/FURN/ETC SYRINGE/NEEDLE W/O PERMIT:EXTORTION:KIDNAP CHILD UNDER 14YRS FOR CHILD MOLEST:REARREST/REVOKE PROBATION/ETC:ATTEMPT - KIDNAPPING:VIOL DOMESTIC VIOL PROTECT/STAY AWAY ORD:CONSPIRACY TO COMMIT ANY CRIME:DUP VEH MASTER KEY W/O MAINT ID OF BUYER:DEFACE PROPERTY:CONTEMPT OF COURT:ARSON OF PROPERTY:VANDALISM LOSS VALUE: > $5000/<$50,000:POSS OF TOOLS W/INT COMMIT VANDAL/GRAFF:PREVENT/DISSUADE WITNESS/VICTIM FROM TEST:RETAKE LAND AFTER LEGAL REMOVAL:FALSE IMPRISONMENT:RECKLESS CAUSE FIRE:INHABIT STRUCTUR/PROP:SKIING IN CLOSED AREA:FALSE REPORT OF BOMB TO ANY PERSON:UNAUTHORIZED ENTRY NONCOMMERCIAL DWELLNG:UNAUTHORIZED ENTRY NONCOMMERCIAL DWELLNG:ENTER/REMAIN ON POSTED PROPERTY:VANDALISM OF PLACE OF WORSHIP:FAIL TO EXHIBIT FISH ON DEMAND OF WARDEN:KIDNAP TO COMMIT ROBBERY/RAPE/ETC:REFUSE TO LEAVE POSTED LAND:TRESPASS:RAIL TRANSIT PROPERTY:TAMPER W/VEHICLE:DAMAGE PROPERTY:MAKE OBSCENE/THREATENING TELEPHONE CALLS:STALKING:ILLEGALLY DISPOSE HAZARDOUS WASTE:FALSE REPORT OF BOMB TO ANY PEACE OFFICER:WARRANT ARREST/MINOR:FAIL TO DISCLOSE ORIGIN OF RECORDING:CONTRIBUTING TO DELINQUENCY OF MINOR:SALE OF UNSTAMPED CIGARETTES:KIDNAPPING FOR RANSOM:FALSE REPORT OF BOMB TO PUBLIC AGENCY/BUS:DESTROY PROPERTY VALUED LESS THAN $1,000:ILLEGAL RESALE OF TICKETS:ANNOYING REPEATED PHONE CALLS RESIDENCE:CONTRIBUTING TO DELINQUENCY OF MINOR:PARTICIPATE IN KNOWN STREET GANG:COMPTON MUNICIPAL CODE:CONTEMPT OF COURT - DISOBEY COURT ORDER:DEFACE/DAMAGE PERSONAL PROPERTY:PREVENT/DISSUADE WITNESS/VICTIM FROM REPO:ARSON OF STRUCTURE OR FOREST LAND:LITTERBUG/DEPOSIT TRASH ON HIGHWAY:INTERCEPT/DIVULGE LAWENFORCEMT RADIO COMM:UNLAWFUL HYPODERMIC NEEDLE/SYRINGE:SELLING/PEDDLING/ETC ON RTD PROPERTY:TRESPASS W/INTENT TO INTERFERE/INJ PROP:FAIL CARRY SEC GUARD REGISTRATION CARD:'),\n",
       " (25, 'Federal Offenses', 'USC:', 'UNITED STATES CODES:')]"
      ]
     },
     "execution_count": 4,
     "metadata": {},
     "output_type": "execute_result"
    }
   ],
   "source": [
    "execute_sql_statement(\"SELECT * FROM ChargeDetails;\", conn)"
   ]
  },
  {
   "cell_type": "code",
   "execution_count": null,
   "metadata": {
    "colab": {
     "base_uri": "https://localhost:8080/"
    },
    "id": "00EYdKnX6guL",
    "outputId": "19165d83-32bb-48ce-c29e-503bd09df50e"
   },
   "outputs": [
    {
     "data": {
      "text/plain": [
       "[(1, 'Test', 1, 'Test', 'Test', 'Test')]"
      ]
     },
     "execution_count": 15,
     "metadata": {},
     "output_type": "execute_result"
    }
   ],
   "source": [
    "sql_location_detals = '''CREATE TABLE LocationDetails(AreaID INTEGER NOT NULL PRIMARY KEY,\n",
    "                                                    AreaName TEXT NOT NULL,\n",
    "                                                    ReportingDistrict INTEGER NOT NULL,\n",
    "                                                    Address TEXT NOT NULL,\n",
    "                                                    CrossStreet TEXT NOT NULL,\n",
    "                                                    Location TEXT NOT NULL\n",
    "                                                    );\"\n",
    "\n",
    "\n",
    "'''\n",
    "create_table(conn, sql_location_detals)\n",
    "\n",
    "\n",
    "sql = \"\"\"INSERT INTO LocationDetails VALUES (?,?,?,?,?,?);\"\"\"\n",
    "rows = [(1,\"Test\",1, \"Test\",\"Test\",\"Test\")]\n",
    "cur = conn.cursor()\n",
    "cur.executemany(sql, rows)\n",
    "execute_sql_statement(\"SELECT * FROM LocationDetails;\", conn)"
   ]
  },
  {
   "cell_type": "code",
   "execution_count": null,
   "metadata": {
    "colab": {
     "base_uri": "https://localhost:8080/"
    },
    "id": "BMggpBZh6jya",
    "outputId": "82d35942-d31c-42b7-9f49-04812e7da9a1"
   },
   "outputs": [
    {
     "data": {
      "text/plain": [
       "<sqlite3.Cursor at 0x7f134b602260>"
      ]
     },
     "execution_count": 16,
     "metadata": {},
     "output_type": "execute_result"
    }
   ],
   "source": [
    "\n",
    "\n",
    "sql_arrest = '''create table ArrestDetails(ReportID INTEGER NOT NULL PRIMARY KEY, \n",
    "                                        ReportType TEXT NOT NULL, \n",
    "                                        ArrestDate TEXT NOT NULL,\n",
    "                                        ArrestTime INTEGER NOT NULL, \n",
    "                                        ArrestTypeCode TEXT NOT NULL,\n",
    "                                        Age INTEGER NOT NULL,\n",
    "                                        SexCode TEXT NOT NULL,\n",
    "                                        DescentCode TEXT NOT NULL,\n",
    "                                        AreaID INTEGER NOT NULL,\n",
    "                                        ChargeGroupCode INTEGER NOT NULL,\n",
    "                                        FOREIGN KEY (AreaID) REFERENCES LocationDetails(AreaID),\n",
    "                                        FOREIGN KEY (ChargeGroupCode) REFERENCES ChargeDetails(ChargeGroupCode)\n",
    "                                        );\n",
    "'''\n",
    "create_table(conn, sql_arrest)\n",
    "\n",
    "sql_st = \"\"\"INSERT INTO ArrestDetails VALUES (?,?,?,?,?,?,?,?,?,?);\"\"\"\n",
    "\n",
    "records = [(45,\"RFC\",\"12-11-2021\",21,\"FD\",22,\"M\",\"AS\",1,1)]\n",
    "cur = conn.cursor()\n",
    "cur.executemany(sql_st, records)"
   ]
  },
  {
   "cell_type": "code",
   "execution_count": null,
   "metadata": {
    "colab": {
     "base_uri": "https://localhost:8080/"
    },
    "id": "s5vgMGvN-LhA",
    "outputId": "ad1e73a8-bdc0-4be9-c324-06a36e323a8b"
   },
   "outputs": [
    {
     "data": {
      "text/plain": [
       "[(45, 'RFC', '12-11-2021', 21, 'FD', 22, 'M', 'AS', 1, 1)]"
      ]
     },
     "execution_count": 17,
     "metadata": {},
     "output_type": "execute_result"
    }
   ],
   "source": [
    "execute_sql_statement(\"SELECT * FROM ArrestDetails;\", conn)"
   ]
  },
  {
   "cell_type": "code",
   "execution_count": null,
   "metadata": {
    "id": "uuTS8u1x_NiY"
   },
   "outputs": [],
   "source": []
  }
 ],
 "metadata": {
  "colab": {
   "collapsed_sections": [],
   "name": "Python Project - LA City Arrests",
   "provenance": []
  },
  "kernelspec": {
   "display_name": "Python 3 (ipykernel)",
   "language": "python",
   "name": "python3"
  },
  "language_info": {
   "codemirror_mode": {
    "name": "ipython",
    "version": 3
   },
   "file_extension": ".py",
   "mimetype": "text/x-python",
   "name": "python",
   "nbconvert_exporter": "python",
   "pygments_lexer": "ipython3",
   "version": "3.9.7"
  }
 },
 "nbformat": 4,
 "nbformat_minor": 1
}
